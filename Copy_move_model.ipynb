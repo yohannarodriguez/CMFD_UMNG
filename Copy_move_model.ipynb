{
  "nbformat": 4,
  "nbformat_minor": 0,
  "metadata": {
    "colab": {
      "name": "Cop_move_model.ipynb",
      "provenance": [],
      "collapsed_sections": []
    },
    "kernelspec": {
      "name": "python3",
      "display_name": "Python 3"
    },
    "accelerator": "GPU"
  },
  "cells": [
    {
      "cell_type": "code",
      "metadata": {
        "id": "vxsT8s6HKQfV",
        "colab": {
          "base_uri": "https://localhost:8080/",
          "height": 35
        },
        "outputId": "5577ee63-05df-4473-b248-e207b473b164"
      },
      "source": [
        "import tensorflow as tf\n",
        "import os\n",
        "from tensorflow.keras.models import Model, load_model\n",
        "from tensorflow.keras.layers import Input, BatchNormalization, Activation, Dense, Dropout, Flatten\n",
        "from tensorflow.keras.layers import Lambda, Reshape\n",
        "from tensorflow.keras.layers import Conv2D\n",
        "from tensorflow.keras.layers import MaxPooling2D, AveragePooling2D\n",
        "from tensorflow.keras.layers import concatenate, add\n",
        "from tensorflow.keras.callbacks import EarlyStopping, ModelCheckpoint\n",
        "from tensorflow.keras.optimizers import SGD\n",
        "from tensorflow.keras.preprocessing.image import ImageDataGenerator\n",
        "from keras.preprocessing.image import ImageDataGenerator\n",
        "import numpy as np\n",
        "print(tf.__version__)"
      ],
      "execution_count": null,
      "outputs": [
        {
          "output_type": "stream",
          "text": [
            "2.3.0\n"
          ],
          "name": "stdout"
        }
      ]
    },
    {
      "cell_type": "code",
      "metadata": {
        "id": "psyGQzA3KmVC",
        "colab": {
          "base_uri": "https://localhost:8080/",
          "height": 35
        },
        "outputId": "59020dc7-743f-4d01-b6dd-4d91f606769a"
      },
      "source": [
        "#Size of the image\n",
        "x=300\n",
        "y=300\n",
        "print(x,\",\",y)"
      ],
      "execution_count": null,
      "outputs": [
        {
          "output_type": "stream",
          "text": [
            "300 , 300\n"
          ],
          "name": "stdout"
        }
      ]
    },
    {
      "cell_type": "code",
      "metadata": {
        "id": "pPtnDK5dJ6Dq"
      },
      "source": [
        "!unzip -qq test13.zip"
      ],
      "execution_count": null,
      "outputs": []
    },
    {
      "cell_type": "code",
      "metadata": {
        "id": "KhAHjn2kg5Gg"
      },
      "source": [
        "!unzip -qq external_test_test13.zip"
      ],
      "execution_count": null,
      "outputs": []
    },
    {
      "cell_type": "code",
      "metadata": {
        "id": "Sdp6KrWTJ-_V",
        "colab": {
          "base_uri": "https://localhost:8080/",
          "height": 72
        },
        "outputId": "71b76064-06f2-461c-ec20-d51ce6f6a25e"
      },
      "source": [
        "print(os.getcwd())\n",
        "path2=\"test13\"\n",
        "\n",
        "dirname1=os.path.join(os.getcwd(), path2, \"training\")\n",
        "dirname2=os.path.join(os.getcwd(), path2, \"validation\")\n",
        "print(dirname1)\n",
        "print(dirname2)"
      ],
      "execution_count": null,
      "outputs": [
        {
          "output_type": "stream",
          "text": [
            "/content\n",
            "/content/test13/training\n",
            "/content/test13/validation\n"
          ],
          "name": "stdout"
        }
      ]
    },
    {
      "cell_type": "code",
      "metadata": {
        "id": "7vTqevbJoGgI",
        "colab": {
          "base_uri": "https://localhost:8080/",
          "height": 55
        },
        "outputId": "2469ffcd-30c4-4c29-8266-5d38d6d917ac"
      },
      "source": [
        "#Google Drive auth  / click on generated link and then paste it \n",
        "from google.colab import drive\n",
        "drive.mount('/content/drive')"
      ],
      "execution_count": null,
      "outputs": [
        {
          "output_type": "stream",
          "text": [
            "Drive already mounted at /content/drive; to attempt to forcibly remount, call drive.mount(\"/content/drive\", force_remount=True).\n"
          ],
          "name": "stdout"
        }
      ]
    },
    {
      "cell_type": "code",
      "metadata": {
        "id": "FDNDiDv7MHo8"
      },
      "source": [
        "# Load model's weights from the file VGG_16_weights.h5\n",
        "weights_model = '/content/drive/My Drive/datasets/vgg16_weights.h5'\n",
        "#weights_model = '/content/vgg16_weights.h5'\n"
      ],
      "execution_count": null,
      "outputs": []
    },
    {
      "cell_type": "code",
      "metadata": {
        "id": "83glj8M4OUeD"
      },
      "source": [
        "# Load VGG16 model from Keras (more models available: en https://www.tensorflow.org/api_docs/python/tf/keras/applications)\n",
        "from tensorflow.keras.applications.vgg16 import VGG16"
      ],
      "execution_count": null,
      "outputs": []
    },
    {
      "cell_type": "code",
      "metadata": {
        "id": "AVFzt1hFO2go"
      },
      "source": [
        "# Turn off fully-connected and weights\n",
        "pre_trained_model = VGG16(input_shape = (x, y, 3), \n",
        "                                include_top = False, \n",
        "                                weights = None)"
      ],
      "execution_count": null,
      "outputs": []
    },
    {
      "cell_type": "code",
      "metadata": {
        "id": "dDBNo7ssP0Kh"
      },
      "source": [
        "# Assign previosly loaded weights to the pre-trained model\n",
        "pre_trained_model.load_weights(weights_model)"
      ],
      "execution_count": null,
      "outputs": []
    },
    {
      "cell_type": "code",
      "metadata": {
        "id": "pHza0QCkQGDf",
        "colab": {
          "base_uri": "https://localhost:8080/",
          "height": 862
        },
        "outputId": "65dceb78-faef-4cfd-f672-a3a05660ed85"
      },
      "source": [
        "# Model summary.  Layers are blocked so as not to train them\n",
        "for layer in pre_trained_model.layers:\n",
        "  layer.trainable = False\n",
        "  \n",
        "pre_trained_model.summary()"
      ],
      "execution_count": null,
      "outputs": [
        {
          "output_type": "stream",
          "text": [
            "Model: \"vgg16\"\n",
            "_________________________________________________________________\n",
            "Layer (type)                 Output Shape              Param #   \n",
            "=================================================================\n",
            "input_1 (InputLayer)         [(None, 300, 300, 3)]     0         \n",
            "_________________________________________________________________\n",
            "block1_conv1 (Conv2D)        (None, 300, 300, 64)      1792      \n",
            "_________________________________________________________________\n",
            "block1_conv2 (Conv2D)        (None, 300, 300, 64)      36928     \n",
            "_________________________________________________________________\n",
            "block1_pool (MaxPooling2D)   (None, 150, 150, 64)      0         \n",
            "_________________________________________________________________\n",
            "block2_conv1 (Conv2D)        (None, 150, 150, 128)     73856     \n",
            "_________________________________________________________________\n",
            "block2_conv2 (Conv2D)        (None, 150, 150, 128)     147584    \n",
            "_________________________________________________________________\n",
            "block2_pool (MaxPooling2D)   (None, 75, 75, 128)       0         \n",
            "_________________________________________________________________\n",
            "block3_conv1 (Conv2D)        (None, 75, 75, 256)       295168    \n",
            "_________________________________________________________________\n",
            "block3_conv2 (Conv2D)        (None, 75, 75, 256)       590080    \n",
            "_________________________________________________________________\n",
            "block3_conv3 (Conv2D)        (None, 75, 75, 256)       590080    \n",
            "_________________________________________________________________\n",
            "block3_pool (MaxPooling2D)   (None, 37, 37, 256)       0         \n",
            "_________________________________________________________________\n",
            "block4_conv1 (Conv2D)        (None, 37, 37, 512)       1180160   \n",
            "_________________________________________________________________\n",
            "block4_conv2 (Conv2D)        (None, 37, 37, 512)       2359808   \n",
            "_________________________________________________________________\n",
            "block4_conv3 (Conv2D)        (None, 37, 37, 512)       2359808   \n",
            "_________________________________________________________________\n",
            "block4_pool (MaxPooling2D)   (None, 18, 18, 512)       0         \n",
            "_________________________________________________________________\n",
            "block5_conv1 (Conv2D)        (None, 18, 18, 512)       2359808   \n",
            "_________________________________________________________________\n",
            "block5_conv2 (Conv2D)        (None, 18, 18, 512)       2359808   \n",
            "_________________________________________________________________\n",
            "block5_conv3 (Conv2D)        (None, 18, 18, 512)       2359808   \n",
            "_________________________________________________________________\n",
            "block5_pool (MaxPooling2D)   (None, 9, 9, 512)         0         \n",
            "=================================================================\n",
            "Total params: 14,714,688\n",
            "Trainable params: 0\n",
            "Non-trainable params: 14,714,688\n",
            "_________________________________________________________________\n"
          ],
          "name": "stdout"
        }
      ]
    },
    {
      "cell_type": "code",
      "metadata": {
        "id": "vsF_9EM-RMmk",
        "colab": {
          "base_uri": "https://localhost:8080/",
          "height": 35
        },
        "outputId": "1a1aa973-e779-43f6-9879-7f33a2624550"
      },
      "source": [
        "# A VGG16 layers is selected, which is the last of the transfer taken\n",
        "last_layer = pre_trained_model.get_layer('block4_pool') \n",
        "print('last layer output shape: ', last_layer.output_shape)"
      ],
      "execution_count": null,
      "outputs": [
        {
          "output_type": "stream",
          "text": [
            "last layer output shape:  (None, 18, 18, 512)\n"
          ],
          "name": "stdout"
        }
      ]
    },
    {
      "cell_type": "markdown",
      "metadata": {
        "id": "DFiM-F7IxN2V"
      },
      "source": [
        "**ARCHITECTURE DEFINITION_Fully Connection Layers**"
      ]
    },
    {
      "cell_type": "code",
      "metadata": {
        "id": "u4nLYXUESP3Y",
        "colab": {
          "base_uri": "https://localhost:8080/",
          "height": 35
        },
        "outputId": "cd0a1c0a-96b7-4b1a-ea2c-c7e3d15870f4"
      },
      "source": [
        "# Last layer is assigned\n",
        "last_output = last_layer.output\n",
        "last_output"
      ],
      "execution_count": null,
      "outputs": [
        {
          "output_type": "execute_result",
          "data": {
            "text/plain": [
              "<tf.Tensor 'block4_pool/MaxPool:0' shape=(None, 18, 18, 512) dtype=float32>"
            ]
          },
          "metadata": {
            "tags": []
          },
          "execution_count": 11
        }
      ]
    },
    {
      "cell_type": "code",
      "metadata": {
        "id": "VRPuSxorSlAg"
      },
      "source": [
        "#Fully-connected is added again to our model\n",
        "#from tensorflow.keras.optimizers import RMSprop\n",
        "\n",
        "##### Neural network #####\n",
        "model = Flatten()(last_output)\n",
        "model = Dense(1028)(model)\n",
        "model = tf.nn.leaky_relu(model, alpha=0.1, name='Leaky_ReLU') \n",
        "model = Dropout(0.45)(model)\n",
        "model = Dense(2, activation = 'softmax')(model)\n",
        "\n",
        "model = Model(pre_trained_model.input, model)      \n",
        "import tensorflow_addons as tfa\n",
        "\n",
        "f1=tfa.metrics.F1Score(num_classes=2, average='weighted')\n",
        "model.compile(loss='categorical_crossentropy', optimizer=SGD(lr=0.001, decay=0.0001), metrics=[f1])\n",
        "\n",
        "from tensorflow.keras.callbacks import ModelCheckpoint\n",
        "filepath=\"weights-improvement-{epoch:02d}-{val_f1_score:.2f}.h5\"\n",
        "checkpoint = ModelCheckpoint(filepath, monitor='val_f1_score', verbose=1, save_best_only=True, mode='max')\n",
        "callbacks_list = [checkpoint]"
      ],
      "execution_count": null,
      "outputs": []
    },
    {
      "cell_type": "code",
      "metadata": {
        "id": "vsSMLfcP5kH6",
        "colab": {
          "base_uri": "https://localhost:8080/",
          "height": 899
        },
        "outputId": "cc599747-9a5a-4f2d-8d4a-c1d3e3e93eef"
      },
      "source": [
        "#Parameters Visualization\n",
        "model.summary()"
      ],
      "execution_count": null,
      "outputs": [
        {
          "output_type": "stream",
          "text": [
            "Model: \"functional_1\"\n",
            "_________________________________________________________________\n",
            "Layer (type)                 Output Shape              Param #   \n",
            "=================================================================\n",
            "input_1 (InputLayer)         [(None, 300, 300, 3)]     0         \n",
            "_________________________________________________________________\n",
            "block1_conv1 (Conv2D)        (None, 300, 300, 64)      1792      \n",
            "_________________________________________________________________\n",
            "block1_conv2 (Conv2D)        (None, 300, 300, 64)      36928     \n",
            "_________________________________________________________________\n",
            "block1_pool (MaxPooling2D)   (None, 150, 150, 64)      0         \n",
            "_________________________________________________________________\n",
            "block2_conv1 (Conv2D)        (None, 150, 150, 128)     73856     \n",
            "_________________________________________________________________\n",
            "block2_conv2 (Conv2D)        (None, 150, 150, 128)     147584    \n",
            "_________________________________________________________________\n",
            "block2_pool (MaxPooling2D)   (None, 75, 75, 128)       0         \n",
            "_________________________________________________________________\n",
            "block3_conv1 (Conv2D)        (None, 75, 75, 256)       295168    \n",
            "_________________________________________________________________\n",
            "block3_conv2 (Conv2D)        (None, 75, 75, 256)       590080    \n",
            "_________________________________________________________________\n",
            "block3_conv3 (Conv2D)        (None, 75, 75, 256)       590080    \n",
            "_________________________________________________________________\n",
            "block3_pool (MaxPooling2D)   (None, 37, 37, 256)       0         \n",
            "_________________________________________________________________\n",
            "block4_conv1 (Conv2D)        (None, 37, 37, 512)       1180160   \n",
            "_________________________________________________________________\n",
            "block4_conv2 (Conv2D)        (None, 37, 37, 512)       2359808   \n",
            "_________________________________________________________________\n",
            "block4_conv3 (Conv2D)        (None, 37, 37, 512)       2359808   \n",
            "_________________________________________________________________\n",
            "block4_pool (MaxPooling2D)   (None, 18, 18, 512)       0         \n",
            "_________________________________________________________________\n",
            "flatten (Flatten)            (None, 165888)            0         \n",
            "_________________________________________________________________\n",
            "dense (Dense)                (None, 1028)              170533892 \n",
            "_________________________________________________________________\n",
            "tf_op_layer_LeakyRelu (Tenso [(None, 1028)]            0         \n",
            "_________________________________________________________________\n",
            "dropout (Dropout)            (None, 1028)              0         \n",
            "_________________________________________________________________\n",
            "dense_1 (Dense)              (None, 2)                 2058      \n",
            "=================================================================\n",
            "Total params: 178,171,214\n",
            "Trainable params: 170,535,950\n",
            "Non-trainable params: 7,635,264\n",
            "_________________________________________________________________\n"
          ],
          "name": "stdout"
        }
      ]
    },
    {
      "cell_type": "code",
      "metadata": {
        "id": "GoeMW0KkYGsH",
        "colab": {
          "base_uri": "https://localhost:8080/",
          "height": 54
        },
        "outputId": "6505c4a8-55c3-4c6f-c94f-118840d08dad"
      },
      "source": [
        "train_datagen = ImageDataGenerator(\n",
        "        rescale=1./255,\n",
        "        vertical_flip=True,\n",
        "        horizontal_flip=True,     \n",
        ")\n",
        "validation_datagen = ImageDataGenerator(rescale=1/255)\n",
        "batch_sizet=1\n",
        "batch_sizev=1\n",
        "#Read training images and resize. Binary \n",
        "train_generator = train_datagen.flow_from_directory(dirname1, #training images directory\n",
        "target_size = (x, y), #Resize all images 200x200\n",
        "batch_size = batch_sizet,                                                       \n",
        "class_mode = 'categorical', interpolation='bicubic')\n",
        "\n",
        "#Read validation images and resize. Binary \n",
        "validation_generator = validation_datagen.flow_from_directory(dirname2, #validation images directory\n",
        "target_size = (x, y), #Resize all images 200x200\n",
        "batch_size = batch_sizev,                                                     \n",
        "class_mode = 'categorical', interpolation='bicubic')"
      ],
      "execution_count": null,
      "outputs": [
        {
          "output_type": "stream",
          "text": [
            "Found 3531 images belonging to 2 classes.\n",
            "Found 1180 images belonging to 2 classes.\n"
          ],
          "name": "stdout"
        }
      ]
    },
    {
      "cell_type": "code",
      "metadata": {
        "id": "qL3mqvy95tXO"
      },
      "source": [
        "import time\n",
        "\n",
        "def TicTocGenerator():\n",
        "    # Generator that returns time differences\n",
        "    ti = 0           # initial time\n",
        "    tf = time.time() # final time\n",
        "    while True:\n",
        "        ti = tf\n",
        "        tf = time.time()\n",
        "        yield tf-ti # returns the time difference\n",
        "\n",
        "TicToc = TicTocGenerator() # create an instance of the TicTocGen generator\n",
        "\n",
        "# This will be the main function through which we define both tic() and toc()\n",
        "def toc(tempBool=True):\n",
        "    # Prints the time difference yielded by generator instance TicToc\n",
        "    tempTimeInterval = next(TicToc)\n",
        "    if tempBool:\n",
        "        print( \"Elapsed time: %f seconds.\\n\" %tempTimeInterval )\n",
        "\n",
        "def tic():\n",
        "    # Records a time in TicToc, marks the beginning of a time interval\n",
        "    toc(False)"
      ],
      "execution_count": null,
      "outputs": []
    },
    {
      "cell_type": "code",
      "metadata": {
        "id": "ICNXoiHEYsB3"
      },
      "source": [
        "tic()\n",
        "history = model.fit_generator(\n",
        "    train_generator,\n",
        "    steps_per_epoch=3531,\n",
        "    epochs=80,\n",
        "    validation_data=validation_generator,\n",
        "    validation_steps=1180,\n",
        "    verbose=1,\n",
        "    callbacks=callbacks_list)\n",
        "toc() #Returns elapsed time"
      ],
      "execution_count": null,
      "outputs": []
    },
    {
      "cell_type": "code",
      "metadata": {
        "id": "6MWHbXdnaxW3"
      },
      "source": [
        "model.save('/content/copymovemodel.h5')\n",
        "model.save_weights('/content/copymoveweights.h5')\n"
      ],
      "execution_count": null,
      "outputs": []
    },
    {
      "cell_type": "code",
      "metadata": {
        "id": "uFltyUuWBICX"
      },
      "source": [
        "model.save('/content/drive/My Drive/datasets/weights_and_models/test11_ALL_TLmodel_VGG.h5')\n",
        "model.save_weights('/content/drive/My Drive/datasets/weights_and_models/test11_ALL_TLweights_VGG.h5')"
      ],
      "execution_count": null,
      "outputs": []
    },
    {
      "cell_type": "code",
      "metadata": {
        "id": "apZyvxcLRr3g"
      },
      "source": [
        "from tensorflow.keras.utils import plot_model\n",
        "#Graphics Model Architecture\n",
        "plot_model(model, show_shapes=True, to_file='Test10.png')"
      ],
      "execution_count": null,
      "outputs": []
    },
    {
      "cell_type": "markdown",
      "metadata": {
        "id": "ssJc9NkGWDYY"
      },
      "source": [
        "**Charts**"
      ]
    },
    {
      "cell_type": "code",
      "metadata": {
        "id": "2QHyHiXhWHOM",
        "colab": {
          "base_uri": "https://localhost:8080/",
          "height": 281
        },
        "outputId": "2fffd79d-7e3d-402d-99ad-71ce9a506e72"
      },
      "source": [
        "import matplotlib.pyplot as plt\n",
        "f1_score = history.history['f1_score']\n",
        "val_f1_score = history.history['val_f1_score']\n",
        "epochs = range(len(f1_score))\n",
        "\n",
        "plt.plot(epochs, f1_score, 'm', label='training')\n",
        "plt.plot(epochs, val_f1_score, 'b', label='validation')\n",
        "plt.title('f1_score')\n",
        "plt.legend()\n",
        "plt.show()"
      ],
      "execution_count": null,
      "outputs": [
        {
          "output_type": "display_data",
          "data": {
            "image/png": "[encoded data removed]",
            "text/plain": [
              "<Figure size 432x288 with 1 Axes>"
            ]
          },
          "metadata": {
            "tags": [],
            "needs_background": "light"
          }
        }
      ]
    },
    {
      "cell_type": "code",
      "metadata": {
        "id": "1_ziS5BD5-af",
        "colab": {
          "base_uri": "https://localhost:8080/",
          "height": 281
        },
        "outputId": "c8dc4a63-bcba-4096-8d13-a11f4d96bd58"
      },
      "source": [
        "loss = history.history['loss']\n",
        "val_loss = history.history['val_loss']\n",
        "plt.plot(epochs, loss, 'm', label='training')\n",
        "plt.plot(epochs, val_loss, 'b', label='validation')\n",
        "plt.title('Loss')\n",
        "plt.legend()\n",
        "plt.show()"
      ],
      "execution_count": null,
      "outputs": [
        {
          "output_type": "display_data",
          "data": {
            "image/png": "[encoded data removed]",
            "text/plain": [
              "<Figure size 432x288 with 1 Axes>"
            ]
          },
          "metadata": {
            "tags": [],
            "needs_background": "light"
          }
        }
      ]
    },
    {
      "cell_type": "code",
      "metadata": {
        "id": "1DGZQ4qeWSnk"
      },
      "source": [
        "#Load weights and trained model\n",
        "import tensorflow as tf\n",
        "from tensorflow import keras\n",
        "from tensorflow.keras.models import load_model\n",
        "import tensorflow_addons as tfa\n",
        "model = '/content/copymovemodel.h5'\n",
        "weights_model = '/content/copymoveweights.h5'\n",
        "model = load_model(model)\n",
        "model.load_weights(weights_model)"
      ],
      "execution_count": null,
      "outputs": []
    },
    {
      "cell_type": "markdown",
      "metadata": {
        "id": "tesShWLq6RVV"
      },
      "source": [
        "**EXTERNAL TEST**"
      ]
    },
    {
      "cell_type": "code",
      "metadata": {
        "id": "ly7MZX1Z6R2N"
      },
      "source": [
        "#Original='/content/drive/My Drive/datasets/external_test_test18/a_original'\n",
        "Original = os.path.join(os.getcwd(),'external_test_test13','a_original')\n",
        "\n",
        "imagen=os.listdir(Original)\n",
        "total=len(imagen)\n",
        "TrueNegatives = 0\n",
        "FalsePositives = 0\n",
        "import cv2\n",
        "import numpy as np\n",
        "for i in range(total):\n",
        "  path=os.path.join(Original,imagen[i])\n",
        "  img=cv2.imread(path)\n",
        "  img=cv2.resize(img,(x, y)) # same size that was used for training and validation\n",
        "  img=np.reshape(img,[1, x, y, 3])\n",
        "\n",
        "  prediction = model.predict(img)\n",
        "  CATEGORIES = [\"a_original\", \"b_fake\"]\n",
        "  pred_name = CATEGORIES[np.argmax(prediction)]\n",
        "  \n",
        "  if pred_name == \"a_original\":\n",
        "    TrueNegatives = TrueNegatives+1\n",
        "  elif pred_name == \"b_fake\":\n",
        "    FalsePositives = FalsePositives+1\n",
        "\n",
        "confusion_matrix=np.zeros((2, 2))\n",
        "confusion_matrix[1,1] = TrueNegatives\n",
        "confusion_matrix[1,0] = FalsePositives"
      ],
      "execution_count": null,
      "outputs": []
    },
    {
      "cell_type": "code",
      "metadata": {
        "id": "1ZvficDp6UEt"
      },
      "source": [
        "#Fake='/content/drive/My Drive/datasets/external_test_test18/b_fake'\n",
        "Fake = os.path.join(os.getcwd(),'external_test_test13','b_fake')\n",
        "\n",
        "imagen2=os.listdir(Fake)\n",
        "total2=len(imagen2)\n",
        "TruePositives = 0\n",
        "FalseNegatives = 0\n",
        "import cv2\n",
        "import numpy as np\n",
        "for i in range(total2):\n",
        "  path=os.path.join( Fake, imagen2[i])\n",
        "  img2=cv2.imread(path)\n",
        "  img2=cv2.resize(img2,(x, y)) #same size that was used for training and validation\n",
        "  img2=np.reshape(img2,[1, x, y, 3])\n",
        "\n",
        "  prediction = model.predict(img2)\n",
        "  CATEGORIES = [\"a_original\", \"b_fake\"]\n",
        "  pred_name = CATEGORIES[np.argmax(prediction)]\n",
        "  \n",
        "  if pred_name == \"a_original\":\n",
        "    FalseNegatives = FalseNegatives+1\n",
        "  elif pred_name == \"b_fake\":\n",
        "    TruePositives = TruePositives+1\n",
        "\n",
        "confusion_matrix[0,1] = FalseNegatives\n",
        "confusion_matrix[0,0] = TruePositives"
      ],
      "execution_count": null,
      "outputs": []
    },
    {
      "cell_type": "code",
      "metadata": {
        "id": "jUoTUbBP6XAk"
      },
      "source": [
        "Precision = TruePositives/(TruePositives+FalsePositives)\n",
        "Recall = TruePositives/(TruePositives+FalseNegatives)\n",
        "f1_score = (2*Precision*Recall)/(Precision+Recall)\n",
        "Accuracy = (TruePositives + TrueNegatives)/(TruePositives + TrueNegatives + FalsePositives + FalseNegatives)\n",
        "\n",
        "print(\"External test results:\")\n",
        "print(\"Precision: \", Precision)\n",
        "print(\"Recall: \", Recall)\n",
        "print(\"f1_score: \", f1_score)\n",
        "print(\"Accuracy: \", Accuracy)\n",
        "print(\"confusion_matrix: \")\n",
        "print(confusion_matrix)"
      ],
      "execution_count": null,
      "outputs": []
    }
  ]
}
